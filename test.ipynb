{
 "cells": [
  {
   "metadata": {
    "collapsed": true,
    "ExecuteTime": {
     "end_time": "2025-03-26T15:56:55.806530Z",
     "start_time": "2025-03-26T15:56:52.933018Z"
    }
   },
   "cell_type": "code",
   "source": [
    "import torch\n",
    "import torch.nn as nn\n",
    "import torch.nn.functional as F\n",
    "from PIL import Image\n",
    "import torchvision.transforms as tr\n",
    "import timm\n",
    "import os\n",
    "import pandas as pd\n",
    "from tqdm import tqdm\n",
    "from torch.utils.data import DataLoader\n",
    "from src2.dataset.dataset import ImageDataset\n",
    "from src2.model.cnn import CNNClassifier\n",
    "import torch.optim as optim\n"
   ],
   "id": "initial_id",
   "outputs": [
    {
     "name": "stderr",
     "output_type": "stream",
     "text": [
      "/home/trung/miniconda3/envs/image/lib/python3.10/site-packages/tqdm/auto.py:21: TqdmWarning: IProgress not found. Please update jupyter and ipywidgets. See https://ipywidgets.readthedocs.io/en/stable/user_install.html\n",
      "  from .autonotebook import tqdm as notebook_tqdm\n"
     ]
    }
   ],
   "execution_count": 1
  },
  {
   "metadata": {
    "ExecuteTime": {
     "end_time": "2025-03-26T15:56:55.927168Z",
     "start_time": "2025-03-26T15:56:55.816051Z"
    }
   },
   "cell_type": "code",
   "source": [
    "model = CNNClassifier(2)\n",
    "\n",
    "criterion = nn.CrossEntropyLoss()\n",
    "optimizer = optim.Adam(\n",
    "        model.parameters(),\n",
    "        lr=0.0001,\n",
    "        weight_decay=0.005,\n",
    "    )\n",
    "\n",
    "\n",
    "image = torch.randn(1, 3, 224, 224)\n",
    "label = torch.tensor([0])"
   ],
   "id": "adef9bb45800fe5e",
   "outputs": [],
   "execution_count": 2
  },
  {
   "metadata": {
    "ExecuteTime": {
     "end_time": "2025-03-26T15:56:56.008047Z",
     "start_time": "2025-03-26T15:56:55.984231Z"
    }
   },
   "cell_type": "code",
   "source": "out = model(image)",
   "id": "f5e8892e2f946212",
   "outputs": [],
   "execution_count": 3
  },
  {
   "metadata": {
    "ExecuteTime": {
     "end_time": "2025-03-26T15:56:56.740430Z",
     "start_time": "2025-03-26T15:56:56.737529Z"
    }
   },
   "cell_type": "code",
   "source": "print(out)",
   "id": "16e053b2d70e25b",
   "outputs": [
    {
     "name": "stdout",
     "output_type": "stream",
     "text": [
      "tensor([[-0.0767,  0.0626]], grad_fn=<AddmmBackward0>)\n"
     ]
    }
   ],
   "execution_count": 4
  },
  {
   "metadata": {
    "ExecuteTime": {
     "end_time": "2025-03-26T15:56:57.781124Z",
     "start_time": "2025-03-26T15:56:57.775386Z"
    }
   },
   "cell_type": "code",
   "source": "criterion(out, label).item()",
   "id": "5e05033e507d41ce",
   "outputs": [
    {
     "data": {
      "text/plain": [
       "0.7652283310890198"
      ]
     },
     "execution_count": 5,
     "metadata": {},
     "output_type": "execute_result"
    }
   ],
   "execution_count": 5
  },
  {
   "metadata": {
    "ExecuteTime": {
     "end_time": "2025-03-26T15:57:23.788454Z",
     "start_time": "2025-03-26T15:57:23.784644Z"
    }
   },
   "cell_type": "code",
   "source": "out.max(1)",
   "id": "eb5a782b97bf98dc",
   "outputs": [
    {
     "data": {
      "text/plain": [
       "torch.return_types.max(\n",
       "values=tensor([0.0626], grad_fn=<MaxBackward0>),\n",
       "indices=tensor([1]))"
      ]
     },
     "execution_count": 6,
     "metadata": {},
     "output_type": "execute_result"
    }
   ],
   "execution_count": 6
  },
  {
   "metadata": {
    "ExecuteTime": {
     "end_time": "2025-03-26T16:05:00.423061Z",
     "start_time": "2025-03-26T16:05:00.419014Z"
    }
   },
   "cell_type": "code",
   "source": [
    "temp = torch.randn(1, 3000)\n",
    "print(temp)"
   ],
   "id": "b8dd94c282e35b3f",
   "outputs": [
    {
     "name": "stdout",
     "output_type": "stream",
     "text": [
      "tensor([[ 0.0429, -0.2742,  0.1604,  ...,  0.7496,  0.9410,  1.0415]])\n"
     ]
    }
   ],
   "execution_count": 17
  },
  {
   "metadata": {
    "ExecuteTime": {
     "end_time": "2025-03-26T16:05:02.328043Z",
     "start_time": "2025-03-26T16:05:02.324093Z"
    }
   },
   "cell_type": "code",
   "source": "temp.max(-1)",
   "id": "55a92467f76be795",
   "outputs": [
    {
     "data": {
      "text/plain": [
       "torch.return_types.max(\n",
       "values=tensor([3.6522]),\n",
       "indices=tensor([1334]))"
      ]
     },
     "execution_count": 18,
     "metadata": {},
     "output_type": "execute_result"
    }
   ],
   "execution_count": 18
  },
  {
   "metadata": {
    "ExecuteTime": {
     "end_time": "2025-03-26T16:05:03.972432Z",
     "start_time": "2025-03-26T16:05:03.968643Z"
    }
   },
   "cell_type": "code",
   "source": "temp.softmax(dim=-1).max(-1)",
   "id": "7b13eb446dcbece0",
   "outputs": [
    {
     "data": {
      "text/plain": [
       "torch.return_types.max(\n",
       "values=tensor([0.0079]),\n",
       "indices=tensor([1334]))"
      ]
     },
     "execution_count": 19,
     "metadata": {},
     "output_type": "execute_result"
    }
   ],
   "execution_count": 19
  }
 ],
 "metadata": {
  "kernelspec": {
   "display_name": "Python 3",
   "language": "python",
   "name": "python3"
  },
  "language_info": {
   "codemirror_mode": {
    "name": "ipython",
    "version": 2
   },
   "file_extension": ".py",
   "mimetype": "text/x-python",
   "name": "python",
   "nbconvert_exporter": "python",
   "pygments_lexer": "ipython2",
   "version": "2.7.6"
  }
 },
 "nbformat": 4,
 "nbformat_minor": 5
}
